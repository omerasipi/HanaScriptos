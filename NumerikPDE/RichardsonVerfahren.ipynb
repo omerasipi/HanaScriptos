{
 "cells": [
  {
   "cell_type": "markdown",
   "metadata": {},
   "source": [
    "# Richardson Verfahren"
   ]
  },
  {
   "cell_type": "markdown",
   "metadata": {},
   "source": [
    "Die Theorie folgt direkt dem [iFEM](https://github.com/JSchoeberl/iFEM/blob/master/iterative/Richardson.ipynb) Jupyter-Notebook, wobei wir für das Beispiel Dirichlet Randbedingungen implementieren."
   ]
  },
  {
   "cell_type": "markdown",
   "metadata": {},
   "source": [
    "## Fixpunkt Iteration"
   ]
  },
  {
   "cell_type": "markdown",
   "metadata": {},
   "source": [
    "Sei $C$ eine reguläre Matrix und $\\alpha\\in\\mathbb{R}^+$ ein Dämpfungsfaktor. Dann ist das lineare Gleichungssystem äquivalent zur Fixpunktgleichung\n",
    "\n",
    "$$x = x + \\alpha\\, C^{-1}\\,(b-A x).$$ (eq:RichardsonFixpunktGleichung)\n",
    "\n",
    "Daraus ergibt sich die Fixpunkt Iteration, auch *einfache Iteration* oder *Richardson Iteration* genannt:\n",
    "\n",
    "$$x_{k+1} = x_k + \\alpha\\, C^{-1}\\,(b-A x_k)$$\n",
    "\n",
    "wobei der Startwert $x_0$ gegeben ist.\n",
    "\n",
    "Sei $x^*$ eine Lösung von {eq}`eq:RichardsonFixpunktGleichung` und\n",
    "\n",
    "$$e_k = x_k - x^*$$\n",
    "\n",
    "der Iterationsfehler. Dann gilt für den neuen Fehler\n",
    "\n",
    "$$\\begin{split}\n",
    "e_{k+1} & = x_{k+1}-x^* = x_k + \\alpha\\, C^{-1} (b-A\\,x_k) - x^*\\\\\n",
    "& = (x_k-x^*) + \\alpha\\, C^{-1} (A\\,x_k-A\\,x^*)\\\\\n",
    "& = (\\mathbb{1} - \\alpha\\,C^{-1} A)\\, (x_k-x^*)\\\\\n",
    "& = (\\mathbb{1} - \\alpha\\,C^{-1} A)\\, e_k.\\\\\n",
    "\\end{split}$$\n",
    "\n",
    "Der neue Fehler ergibt sich durch die Iterationsmatrix oder Fehlerübergangsmatrix\n",
    "\n",
    "$$M = (\\mathbb{1} - \\alpha\\,C^{-1} A)$$\n",
    "\n",
    "als\n",
    "\n",
    "$$e_{k+1} = M\\, e_k.$$\n",
    "\n",
    "Sei $\\|\\cdot\\|$ eine beliebige Vektornorm und\n",
    "\n",
    "$$|\\!|\\!|M|\\!|\\!|:=\\sup_{x\\in\\mathbb{R}^n}\\frac{\\|M x\\|}{\\|x\\|}$$\n",
    "\n",
    "die zugehörige Matrixnorm (Operatornorm vgl. {eq}`eq:operatornorm`). Damit gilt für den neuen Fehler (vgl. {eq}`eq:operatornormungleichung`)\n",
    "\n",
    "$$\\|e_{k+1}\\| \\le |\\!|\\!|M|\\!|\\!|\\, \\|e_k\\|.$$\n",
    "\n",
    "Hinreichend für die Konvergenz ist damit die Existenz einer Matrixnorm mit\n",
    "\n",
    "$$|\\!|\\!|M|\\!|\\!|<1.$$"
   ]
  },
  {
   "cell_type": "markdown",
   "metadata": {},
   "source": [
    "## Vorkonditionierer"
   ]
  },
  {
   "cell_type": "markdown",
   "metadata": {},
   "source": [
    "Die Matrix $C$ wird **Vorkonditionierer** (**Preconditioner**) genannt. Sie soll zwei Eigenschaften erfüllen:\n",
    "* Die Matrix-Vektormultiplikation mit $C^{-1}\\cdot r$ soll billig sein.\n",
    "* Die Matrix $C$ soll eine gute Approximation zu $A$ sein.\n",
    "\n",
    "Zur Wahl der Matrix $C$\n",
    "* Wählt man zum Beispiel $C = \\mathbb{1}$ oder etwas besser $C = \\mathop{diag} A$, dann ist die Operation $C^{-1}\\cdot r$ sehr billig. Die Approximation $C \\approx A$ kann aber schlecht sein.\n",
    "* Wählt man hingegen $C = A$ und $\\alpha = 1$, dann ist die zweite Eigenschaft best-möglich erfüllt:\n",
    "\n",
    "  $$M = \\mathbb{1} - \\alpha C^{-1} A = \\mathbb{1} - A^{-1}A = 0.$$\n",
    "  \n",
    "  Es gilt daher $\\|M\\| = 0$.\n",
    "  \n",
    "  Die Invertierung von $C$ ist jetzt aber genau das ursprüngliche Problem.\n",
    "  \n",
    "Ziel ist es Vorkonditionierer mit beiden Eigenschaften zu finden."
   ]
  },
  {
   "cell_type": "markdown",
   "metadata": {},
   "source": [
    "## Richardson Iteration"
   ]
  },
  {
   "cell_type": "markdown",
   "metadata": {},
   "source": [
    "Im Richardson Verfahren wird die Matrix $C=\\mathbb{1}$ gesetzt. Damit folgt für die Fehlerübergangsmatrix\n",
    "\n",
    "$$M = \\mathbb{1} - \\alpha A.$$\n",
    "\n",
    "Für die Überprüfung der Konvergenz gibt es zwei Möglichkeiten:\n",
    "\n",
    "* den Konvergenzradius zu überprüfen\n",
    "\n",
    "  $$\\rho(\\mathbb{1} - \\alpha A) = \\max_{\\lambda\\in\\sigma(\\mathbb{1} - \\alpha A)} |\\lambda| < 1$$\n",
    "  \n",
    "* eine geeignete Norm $\\|\\cdot\\|$ finden, so dass die Matrixnorm\n",
    "\n",
    "  $$|\\!|\\!|\\mathbb{1} - \\alpha A|\\!|\\!|:=\\sup_{x\\in\\mathbb{R}^n}\\frac{\\|(\\mathbb{1} - \\alpha A) x\\|}{\\|x\\|} < 1$$\n",
    "  \n",
    "  erfüllt ist."
   ]
  },
  {
   "cell_type": "markdown",
   "metadata": {},
   "source": [
    "### Optimieren des Dämpfungsfaktors"
   ]
  },
  {
   "cell_type": "markdown",
   "metadata": {},
   "source": [
    "Sei $A$ symmetrisch und positiv definit. Damit sind die Eigenwerte $\\sigma(A) = \\{\\lambda_i\\in\\mathbb{R}\\}$ mit $0<\\lambda_1 \\le \\lambda_2 \\ldots \\le \\lambda_n$.\n",
    "\n",
    "Die Eigenwerte der Fehlerübergangsmatrix $M = \\mathbb{1} - \\alpha\\,A$ sind in dem Fall gegeben durch $\\{1-\\alpha\\, \\lambda_i\\}$. Wenn wir daher\n",
    "\n",
    "$$0 < \\alpha < \\frac{2}{\\lambda_n}$$\n",
    "\n",
    "wählen, folgt $\\rho(M) < 1$ und damit eine konvergente Itertation.\n",
    "\n",
    "Der Spektralradius von $M$ ist gegeben durch\n",
    "\n",
    "$$\\rho(M) = \\max_i \\{|1-\\alpha\\,\\lambda_i|\\} = \\max \\{1-\\alpha \\lambda_1, -(1-\\alpha\\,\\lambda_n)\\}.$$\n",
    "\n",
    "Das Maximum ist minimiert, wenn wir $\\alpha$ optimal wählen, daher\n",
    "\n",
    "$$1-\\alpha \\lambda_1 = -(1-\\alpha\\,\\lambda_n).$$\n",
    "\n",
    "Somit sei\n",
    "\n",
    "$$\\alpha_{opt} = \\frac{2}{\\lambda_1+\\lambda_n},$$\n",
    "\n",
    "was zur optimalen Konvergenzrate\n",
    "\n",
    "$$\\rho_{opt} = \\frac{\\lambda_n-\\lambda_1}{\\lambda_n+\\lambda_1} \\approx 1 - \\frac{\\lambda_1}{\\lambda_n} = 1 - \\frac{1}{\\kappa(A)}$$\n",
    "\n",
    "führt, wobei mit $\\kappa(A)$ die Konditionszahl $\\kappa(A) = \\lambda_{\\max}(A) / \\lambda_{\\min}(A)$ bezeichnet sei.\n",
    "\n",
    "Nach $N$ Iterationen ist der Fehler um den Faktor\n",
    "\n",
    "$$\\left(1-\\frac{1}{\\kappa}\\right)^N$$\n",
    "\n",
    "reduziert. Um die Fehlerreduktion $\\epsilon$ zu erreichen, sind\n",
    "\n",
    "$$N = \\frac{\\log \\epsilon}{\\log(1-1/\\kappa)} \\approx \\kappa |\\log \\epsilon|$$\n",
    "\n",
    "Iterationen notwendig."
   ]
  },
  {
   "cell_type": "markdown",
   "metadata": {},
   "source": [
    "## Anwendung auf Modellproblem"
   ]
  },
  {
   "cell_type": "markdown",
   "metadata": {},
   "source": [
    "Wir wenden das Verfahren auf das Modellproblem\n",
    "\n",
    "$$\\begin{split}\n",
    "-\\Delta u + 10\\, u & = 1\\quad x\\in\\Omega = [0,1]^2\\\\\n",
    "u & = 0\\quad x \\in \\partial\\Omega\\end{split}$$\n",
    "\n",
    "an."
   ]
  },
  {
   "cell_type": "code",
   "execution_count": 1,
   "metadata": {},
   "outputs": [],
   "source": [
    "from netgen.geom2d import unit_square\n",
    "from ngsolve import *\n",
    "from ngsolve.webgui import Draw\n",
    "import matplotlib.pyplot as plt\n",
    "from myst_nb import glue"
   ]
  },
  {
   "cell_type": "markdown",
   "metadata": {},
   "source": [
    "Diskretierung der schwachen Gleichung mit FEM 1. Ordnung:"
   ]
  },
  {
   "cell_type": "code",
   "execution_count": 2,
   "metadata": {},
   "outputs": [],
   "source": [
    "mesh = Mesh(unit_square.GenerateMesh(maxh=0.1))\n",
    "V = H1(mesh, order=1, dirichlet='bottom|right|top|left')\n",
    "u = V.TrialFunction()\n",
    "v = V.TestFunction()\n",
    "a = BilinearForm(grad(u)*grad(v)*dx+10*u*v*dx).Assemble()\n",
    "f = LinearForm(1*v*dx).Assemble()\n",
    "gfu = GridFunction(V)"
   ]
  },
  {
   "cell_type": "markdown",
   "metadata": {},
   "source": [
    "Wir nutzen das CSR Modul von `scipy` um das reduzierte Problem für die freien Freiheitsgrade zu lösen."
   ]
  },
  {
   "cell_type": "code",
   "execution_count": 3,
   "metadata": {},
   "outputs": [],
   "source": [
    "import scipy.sparse as sp\n",
    "import numpy as np\n",
    "from numpy.linalg import norm"
   ]
  },
  {
   "cell_type": "markdown",
   "metadata": {},
   "source": [
    "Für die reduzierte Systemmatrix folgt"
   ]
  },
  {
   "cell_type": "code",
   "execution_count": 4,
   "metadata": {},
   "outputs": [
    {
     "data": {
      "image/png": "[encoded data removed]",
      "text/plain": [
       "<Figure size 640x480 with 1 Axes>"
      ]
     },
     "metadata": {},
     "output_type": "display_data"
    }
   ],
   "source": [
    "rows,cols,vals = a.mat.COO()\n",
    "ind = np.arange(V.ndof)[np.array(V.FreeDofs())]\n",
    "\n",
    "# Reduktion auf die freien Freiheitsgrade der Systemmatrix\n",
    "A = sp.csr_matrix((vals,(rows,cols)))\n",
    "A = A[np.ix_(ind,ind)]\n",
    "plt.spy(A)\n",
    "plt.show()\n",
    "\n",
    "# Reduktion auf die freien Freiheitsgrade der rechten Seite\n",
    "fd = np.array(f.vec)[ind]"
   ]
  },
  {
   "cell_type": "markdown",
   "metadata": {},
   "source": [
    "Eine Approximation der Dämpfung wird mit Hilfe von ein paar Potenziterationen bestimmt:"
   ]
  },
  {
   "cell_type": "code",
   "execution_count": 5,
   "metadata": {},
   "outputs": [
    {
     "name": "stdout",
     "output_type": "stream",
     "text": [
      "2.0214079904503044\n",
      "4.313546423861847\n",
      "4.693287810334514\n",
      "4.846605977380333\n",
      "4.938477171605796\n",
      "5.001548884644402\n",
      "5.0481821158009215\n",
      "5.084334723840044\n",
      "5.113265226825039\n",
      "5.136931003187501\n",
      "5.156607140548825\n",
      "5.173182125819839\n",
      "5.187306802100961\n",
      "5.199474023323146\n",
      "5.210064602013673\n",
      "5.219376171003191\n",
      "5.2276428183680475\n",
      "5.235049303521752\n",
      "5.2417417863772755\n",
      "5.247836123842535\n"
     ]
    }
   ],
   "source": [
    "hv = np.random.rand(ind.shape[0])\n",
    "hv /= norm(hv)\n",
    "for k in range(20):\n",
    "    hv2 = A@hv\n",
    "    rho = norm(hv2)\n",
    "    print(rho)\n",
    "    hv = 1/rho*hv2"
   ]
  },
  {
   "cell_type": "markdown",
   "metadata": {},
   "source": [
    "Richardson Verfahren anwenden"
   ]
  },
  {
   "cell_type": "code",
   "execution_count": 6,
   "metadata": {},
   "outputs": [
    {
     "name": "stdout",
     "output_type": "stream",
     "text": [
      "needed 339 iterations\n"
     ]
    }
   ],
   "source": [
    "alpha = 1 / rho\n",
    "sol = np.zeros(V.ndof)\n",
    "err0 = norm(fd)\n",
    "its = 0\n",
    "errs = []\n",
    "reltol = 1e-8\n",
    "maxiter = 10000\n",
    "while True:\n",
    "    r = fd - A * sol[ind]\n",
    "    err = norm(r)\n",
    "    errs.append(err)\n",
    "    #print (\"iteration\", its, \"res=\", err)\n",
    "    sol[ind] += alpha * r\n",
    "    if err < reltol * err0 or its > maxiter: break\n",
    "    its = its+1\n",
    "print (\"needed\", its, \"iterations\")"
   ]
  },
  {
   "cell_type": "markdown",
   "metadata": {},
   "source": [
    "Für die Abschätzung der Anzahl notwendiger Iterationen erhalten wir:"
   ]
  },
  {
   "cell_type": "code",
   "execution_count": 7,
   "metadata": {},
   "outputs": [],
   "source": [
    "import scipy.sparse.linalg as spl"
   ]
  },
  {
   "cell_type": "code",
   "execution_count": 8,
   "metadata": {
    "scrolled": true
   },
   "outputs": [
    {
     "data": {
      "text/plain": [
       "358.16804829894215"
      ]
     },
     "execution_count": 8,
     "metadata": {},
     "output_type": "execute_result"
    }
   ],
   "source": [
    "np.linalg.cond(A.todense())*np.abs(np.log(1e-8))"
   ]
  },
  {
   "cell_type": "markdown",
   "metadata": {},
   "source": [
    "Achtung, diese Berechnung funktioniert nur für wenig Freiheitsgrade."
   ]
  },
  {
   "cell_type": "code",
   "execution_count": 11,
   "metadata": {},
   "outputs": [
    {
     "data": {
      "application/papermill.record/image/png": "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",
      "application/papermill.record/text/plain": "<Figure size 640x480 with 1 Axes>"
     },
     "metadata": {
      "scrapbook": {
       "mime_prefix": "application/papermill.record/",
       "name": "FEM_RichardsonVerfahren_fig"
      }
     },
     "output_type": "display_data"
    },
    {
     "data": {
      "image/png": "[encoded data removed]",
      "text/plain": [
       "<Figure size 640x480 with 1 Axes>"
      ]
     },
     "metadata": {},
     "output_type": "display_data"
    }
   ],
   "source": [
    "fig, ax = plt.subplots()\n",
    "ax.loglog(errs)\n",
    "ax.grid()\n",
    "ax.set_title('Richardson Verfahren: '+str(its)+' iterationen')\n",
    "ax.set_xlabel('Iteration')\n",
    "ax.set_ylabel('Residuum')\n",
    "#plt.savefig(\"FEM_RichardsonVerfahren_fig.png\")\n",
    "glue(\"FEM_RichardsonVerfahren_fig\", fig, display=False)"
   ]
  },
  {
   "cell_type": "markdown",
   "metadata": {},
   "source": [
    "Schreiben wir die Lösung wieder zurück in die `GridFunction` von `ngsolve` können wir die Lösung visualisieren:"
   ]
  },
  {
   "cell_type": "code",
   "execution_count": 10,
   "metadata": {},
   "outputs": [
    {
     "data": {
      "application/vnd.jupyter.widget-view+json": {
       "model_id": "b926898495fb47ac81a62b218364236f",
       "version_major": 2,
       "version_minor": 0
      },
      "text/plain": [
       "WebGuiWidget(layout=Layout(height='50vh', width='100%'), value={'gui_settings': {}, 'ngsolve_version': '6.2.23…"
      ]
     },
     "metadata": {},
     "output_type": "display_data"
    }
   ],
   "source": [
    "gfu.vec[:] = sol\n",
    "Draw(gfu,mesh,'u');"
   ]
  }
 ],
 "metadata": {
  "kernelspec": {
   "display_name": "Python 3 (ipykernel)",
   "language": "python",
   "name": "python3"
  },
  "language_info": {
   "codemirror_mode": {
    "name": "ipython",
    "version": 3
   },
   "file_extension": ".py",
   "mimetype": "text/x-python",
   "name": "python",
   "nbconvert_exporter": "python",
   "pygments_lexer": "ipython3",
   "version": "3.11.4"
  }
 },
 "nbformat": 4,
 "nbformat_minor": 4
}
