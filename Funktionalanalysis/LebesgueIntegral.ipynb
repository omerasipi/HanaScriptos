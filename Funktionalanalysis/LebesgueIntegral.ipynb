{
 "cells": [
  {
   "cell_type": "markdown",
   "id": "1a5e2fd6-2ffa-43ba-93fb-926daeae510d",
   "metadata": {},
   "source": [
    "(chap:IllustrationLebesgue)=\n",
    "# Illustration des Lebesgue Integrals"
   ]
  },
  {
   "cell_type": "markdown",
   "id": "7642acd3-392e-48ff-9b6c-8f7b15339130",
   "metadata": {},
   "source": [
    "Zur Illustration des Lebesgue Integral $\\int_I f(x) dx$ einer reellen Funktion $f: D\\subset\\mathbb{R} \\to \\mathbb{R}$ betrachten wir die Zerlegung des Urbildes\n",
    "\n",
    "$$M = f(I) = \\{f(x)\\in\\mathbb{R}\\ |\\ x\\in I\\}.$$\n",
    "\n",
    "Sei die Zerlegung $Z$ von $M$ in disjunkte Mengen (Intervalle) $M_k$ gegeben\n",
    "\n",
    "$$M = \\bigcup_k M_k.$$\n",
    "\n",
    "Wir betrachten nun deren Urbilder\n",
    "\n",
    "$$E_k = f^{-1}(M_k) = \\{x\\in D | f(x) \\in M_k\\}.$$\n",
    "\n",
    "Nach Lebesgue gilt\n",
    "\n",
    "$$\\int_I f(x) dx = \\sup_Z \\sum_k c_k\\,\\mu(E_k).$$"
   ]
  },
  {
   "cell_type": "code",
   "execution_count": 1,
   "id": "a5453a2f-f81d-46da-951d-31af112c41c0",
   "metadata": {},
   "outputs": [],
   "source": [
    "import numpy as np\n",
    "import matplotlib.pyplot as plt\n",
    "from LebesgueIntegrate import LebesgueIntegrate\n",
    "from ipywidgets import interact, widgets"
   ]
  },
  {
   "cell_type": "markdown",
   "id": "080d8edb-447c-42d4-93db-097b0b11d851",
   "metadata": {},
   "source": [
    "## 1. Beispiel: stetige Funktion"
   ]
  },
  {
   "cell_type": "markdown",
   "id": "50a9ea90-9c21-4dd7-9055-8ff907bb59e8",
   "metadata": {},
   "source": [
    "$$f(x) = \\frac{1}{2} \\cos(4\\pi x) e^{-x} + e^{-x}$$"
   ]
  },
  {
   "cell_type": "code",
   "execution_count": 2,
   "id": "23ddb043-cecd-46cd-a5e8-acd8616ac1f7",
   "metadata": {},
   "outputs": [],
   "source": [
    "def f(x):\n",
    "    return 0.5*np.cos(4*np.pi*x)*np.exp(-x)+np.exp(-x)"
   ]
  },
  {
   "cell_type": "markdown",
   "id": "f437e951-0e44-49c7-8652-d19008d012bb",
   "metadata": {},
   "source": [
    "Wir betrachten eine Zerlegung des Bildes $f([0,2])$"
   ]
  },
  {
   "cell_type": "code",
   "execution_count": 3,
   "id": "a121793c-aed3-40e0-ab0d-1811ac9be04f",
   "metadata": {},
   "outputs": [],
   "source": [
    "n=20\n",
    "Lf = LebesgueIntegrate(f,0,2,n)"
   ]
  },
  {
   "cell_type": "code",
   "execution_count": 4,
   "id": "cff47133-7873-4aca-8403-35a3f4aec5b6",
   "metadata": {},
   "outputs": [
    {
     "data": {
      "application/vnd.jupyter.widget-view+json": {
       "model_id": "17632cf227e94029a0f853e05bc63c63",
       "version_major": 2,
       "version_minor": 0
      },
      "text/plain": [
       "interactive(children=(IntSlider(value=2, description='sel', max=19), Output()), _dom_classes=('widget-interact…"
      ]
     },
     "metadata": {},
     "output_type": "display_data"
    }
   ],
   "source": [
    "interact(lambda sel: Lf.myPlot(sel), sel=widgets.IntSlider(min=0, max=n-1, step=1, value=2));"
   ]
  },
  {
   "cell_type": "markdown",
   "id": "8b4a9abf-5814-4f63-9789-b4ac5eb91cf5",
   "metadata": {},
   "source": [
    "## 2. Beispiel: Singuläre Funktion"
   ]
  },
  {
   "cell_type": "markdown",
   "id": "997f0049-74d2-4f8e-b808-851bbca8065b",
   "metadata": {},
   "source": [
    "Das selbe für eine in Null singuläre Funktion, welche jedoch quadratisch integrierbar ist\n",
    "\n",
    "$$f_2(x) = x^{-\\alpha}\\qquad\\text{für}\\ 0 < \\alpha <\\frac{1}{2}.$$\n",
    "\n",
    "Es gilt\n",
    "\n",
    "$$\\int_0^1 |f_2(x)]^2 dx = \\int_0^1 t^{-2\\alpha} dx = \\Big[\\frac{1}{1-2\\alpha} x^{1-2\\alpha}\\Big]_0^1 = \\frac{1}{1-2\\alpha}.$$\n",
    "\n"
   ]
  },
  {
   "cell_type": "code",
   "execution_count": 5,
   "id": "3c0a2579-8948-4c7f-8c57-569faee82b4a",
   "metadata": {},
   "outputs": [],
   "source": [
    "def f2(x, alpha=-0.1):\n",
    "    return (x**alpha)**2"
   ]
  },
  {
   "cell_type": "code",
   "execution_count": 6,
   "id": "a9b875b7-e1ae-49fd-84ad-d840deadb55d",
   "metadata": {},
   "outputs": [],
   "source": [
    "n=10\n",
    "Lf2 = LebesgueIntegrate(f2,0,1,n,100000,fmax=4)"
   ]
  },
  {
   "cell_type": "code",
   "execution_count": 7,
   "id": "badd5003-a4c6-4e1c-9414-d3ddf6092b73",
   "metadata": {},
   "outputs": [
    {
     "data": {
      "application/vnd.jupyter.widget-view+json": {
       "model_id": "cac4c8fbb4614b62b617a8e7dea02acb",
       "version_major": 2,
       "version_minor": 0
      },
      "text/plain": [
       "interactive(children=(IntSlider(value=2, description='sel', max=9), Output()), _dom_classes=('widget-interact'…"
      ]
     },
     "metadata": {},
     "output_type": "display_data"
    }
   ],
   "source": [
    "interact(lambda sel: Lf2.myPlot(sel), sel=widgets.IntSlider(min=0, max=n-1, step=1, value=2));"
   ]
  },
  {
   "cell_type": "markdown",
   "id": "bb1d7c12-a470-4b80-94a0-74ca8d262d7e",
   "metadata": {},
   "source": [
    "Für das Integral selber erhalten wir eine untere und obere Abschätzung"
   ]
  },
  {
   "cell_type": "code",
   "execution_count": 8,
   "id": "ed660cd9-b3da-4680-b601-bd94e280be83",
   "metadata": {},
   "outputs": [
    {
     "data": {
      "text/plain": [
       "(1.130466304663037, 1.430145301453006)"
      ]
     },
     "execution_count": 8,
     "metadata": {},
     "output_type": "execute_result"
    }
   ],
   "source": [
    "Lf2.integrate()"
   ]
  },
  {
   "cell_type": "markdown",
   "id": "eff0eff6-5ede-4614-8785-2f92fcc3a838",
   "metadata": {},
   "source": [
    "wobei $\\frac{1}{1-2\\alpha}=\\frac{5}{4}$ für $\\alpha = \\frac{1}{10}$ gilt."
   ]
  },
  {
   "cell_type": "code",
   "execution_count": 9,
   "id": "1297d7e5-b745-41fd-b337-d19d60583033",
   "metadata": {},
   "outputs": [
    {
     "data": {
      "text/plain": [
       "1.25"
      ]
     },
     "execution_count": 9,
     "metadata": {},
     "output_type": "execute_result"
    }
   ],
   "source": [
    "1/(1-2*0.1)"
   ]
  },
  {
   "cell_type": "markdown",
   "id": "bd17cdb2-c8ee-4dcb-b631-613c3325aa6e",
   "metadata": {},
   "source": [
    "## 3. Beispiel: Singuläre Funktion"
   ]
  },
  {
   "cell_type": "markdown",
   "id": "233a65c7-9cb4-46ea-b68c-248b8303bdf2",
   "metadata": {},
   "source": [
    "Beispiel mit einer Singularität im Innern. Die Funktion ist Lebesgue integrierbar."
   ]
  },
  {
   "cell_type": "code",
   "execution_count": 10,
   "id": "da0b7ae0-1d0d-4c7b-bfaa-17adf0fece9f",
   "metadata": {},
   "outputs": [],
   "source": [
    "def f3(x):\n",
    "    return 0.5*np.cos(4*np.pi*x)*np.exp(-x)+np.exp(-x)+0.1*((x-0.9)**2)**-0.2"
   ]
  },
  {
   "cell_type": "code",
   "execution_count": 11,
   "id": "a1c987d3-a9e5-4884-b064-c54055043133",
   "metadata": {},
   "outputs": [],
   "source": [
    "Lf3 = LebesgueIntegrate(f3,0,2,12,m=20000,fmax=3)"
   ]
  },
  {
   "cell_type": "code",
   "execution_count": 12,
   "id": "5e46a6a4-2fa1-476a-850e-a21c294129e0",
   "metadata": {},
   "outputs": [
    {
     "data": {
      "application/vnd.jupyter.widget-view+json": {
       "model_id": "07f430e79c4f4f0bbe9e8c7d9ea8cec1",
       "version_major": 2,
       "version_minor": 0
      },
      "text/plain": [
       "interactive(children=(IntSlider(value=2, description='sel', max=11), Output()), _dom_classes=('widget-interact…"
      ]
     },
     "metadata": {},
     "output_type": "display_data"
    }
   ],
   "source": [
    "interact(lambda sel: Lf3.myPlot(sel), sel=widgets.IntSlider(min=0, max=11, step=1, value=2));"
   ]
  }
 ],
 "metadata": {
  "kernelspec": {
   "display_name": "Python 3 (ipykernel)",
   "language": "python",
   "name": "python3"
  },
  "language_info": {
   "codemirror_mode": {
    "name": "ipython",
    "version": 3
   },
   "file_extension": ".py",
   "mimetype": "text/x-python",
   "name": "python",
   "nbconvert_exporter": "python",
   "pygments_lexer": "ipython3",
   "version": "3.11.4"
  }
 },
 "nbformat": 4,
 "nbformat_minor": 5
}
