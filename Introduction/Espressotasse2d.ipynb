{
 "cells": [
  {
   "cell_type": "markdown",
   "id": "80fc0fd4",
   "metadata": {},
   "source": [
    "# Einstiegsbeispiel: Espresso in Isolations- und Keramiktasse"
   ]
  },
  {
   "cell_type": "code",
   "execution_count": null,
   "id": "3a3e1283",
   "metadata": {
    "tags": [
     "hide-cell"
    ]
   },
   "outputs": [],
   "source": [
    "import matplotlib.pyplot as plt\n",
    "import numpy as np\n",
    "from netgen.occ import WorkPlane, OCCGeometry, X, Y, Z, Glue, Compound\n",
    "from ngsolve import *\n",
    "from netgen.webgui import Draw as DrawShape\n",
    "from ngsolve.webgui import Draw"
   ]
  },
  {
   "cell_type": "markdown",
   "id": "bddf819e",
   "metadata": {},
   "source": [
    "## Problemstellung\n",
    "\n",
    "Zur praktischen Illustration der Poisson-Gleichung betrachten wir die Wärmeleitung. In der Anwendung wollen wir den Unterschied zwischen einer doppelwandigen Esspressotasse und einer normalen illustrieren. Dabei betrachten wir die Temperaturverteilung im Raum, wobei die Wärmeleitung vom Ort abhängig ist. Damit können unterschiedliche Objekte wie die Luft, Isolation, das Glas und der Kaffee beschrieben bzw. modelliert werden.\n",
    "\n",
    "Das Gebiet $\\Omega$ kann im zwei- oder dreidimensionalen Raum liegen.  \n",
    "\n",
    "```{figure} Kaffeetassen.jpeg\n",
    "---\n",
    "align: center\n",
    "height: 200px\n",
    "name: Kaffeetassen\n",
    "---\n",
    "Unterschiedliche Espressotassen \n",
    "```\n",
    "\n",
    "Die Wärmeleitung wird in der Physik als Diffusionsprozess beschrieben. Mathematisch kann man solche Prozesse mit Hilfe der Poisson-Gleichung modellieren. Wir betrachten daher ein skalares Temperaturfeld $T: \\Omega \\to \\mathbb{R}$ welches dem Randwertproblem\n",
    "\n",
    "$$\\begin{split}-\\mathop{div}(\\lambda(x) \\nabla T(x)) & = q(x)\\quad\\text{für}\\ x\\in\\Omega\\\\\n",
    "T(x) & = T_0(x)\\quad\\text{für}\\ x\\in\\Gamma_D\\end{split}$$(eq:waermeleitungstationaer)\n",
    "\n",
    "genügt, wobei $\\lambda=\\lambda(x)$ der ortsabhängige Wärmeleitungskoeffizient ist. Der zugehörige Wärmefluss  \n",
    "\n",
    "$$q = -\\lambda \\nabla T$$(eq:waermefluss)\n",
    "\n",
    "ist gegeben durch den Gradient der Temperatur $\\nabla T$. Im Fall, dass $\\lambda$ diskontinuierlich ist, wird die Gleichung im Sinne von Distributionen verstanden. Dies beinhaltet Interface Bedingungen: Die Temperatur auf der linken und rechten Seite sind gleich und der Wärmefluss der linken in die rechte Seite müssen gleich gross sein:  \n",
    "\n",
    "$$\\begin{split}\n",
    "T_l & = T_r \\\\\n",
    "\\lambda_l \\frac{\\partial T_r}{\\partial n} & = \\lambda_r \\frac{\\partial T_r}{\\partial n}\n",
    "\\end{split}$$\n",
    "\n",
    "Für $T_0 = 0$ ist die variationelle Form des Problems gegeben durch: finde $T \\in H_0^1(\\Omega)$ mit\n",
    "\n",
    "$$\n",
    "\\int_\\Omega \\lambda(x) \\nabla T\\cdot \\nabla v dx = \\int_\\Omega q\\, v dx\n",
    "$$\n",
    "\n",
    "Diskontinuierliche Koeffizienten bilden kein Problem. Beide Interface Bedingungen werden erfüllt:\n",
    "* Stetigkeit der Temperatur $T$ durch die Stetigkeit der Ansatzfunktionenraumes\n",
    "* Stetigkeit des Wärmeflusses in einem schwachen Sinne, durch Neumann Randbedingungen.\n",
    "\n",
    "\n",
    "## Geometrie und Mesh\n",
    "\n",
    "Als erstes definieren wir die Geometrie der Tasse, Flüssigkeit und Umgebung mit Hilfe des Open Cascade Technology (OCCT) Geometry Kernels."
   ]
  },
  {
   "cell_type": "code",
   "execution_count": null,
   "id": "b2ee6c42",
   "metadata": {},
   "outputs": [],
   "source": [
    "wp = WorkPlane()\n",
    "sPnts = [(0.024, 0.008),\n",
    "         (0.028, 0.016),\n",
    "         (0.032, 0.04),\n",
    "         (0.022, 0.02),\n",
    "         (0.004, 0.006),\n",
    "         (-0.004, 0.006),\n",
    "         (-0.022, 0.02),\n",
    "         (-0.032, 0.04),\n",
    "         (-0.028, 0.016),\n",
    "         (-0.024, 0.008),\n",
    "         (-0.016, 0)]\n",
    "wp.MoveTo(4*4e-3,0).Spline(sPnts)\n",
    "face = wp.Close().Face()"
   ]
  },
  {
   "cell_type": "markdown",
   "id": "19df5865",
   "metadata": {},
   "source": [
    "Das Innere ist durch die Orientierung des Randes gegeben. Setzen wir uns auf den Rand, so ist auf der linken Seite das Innere und auf der rechten das Äussere. Daher ist hier die Geometrie in positiver mathematischer Orientierung definiert."
   ]
  },
  {
   "cell_type": "code",
   "execution_count": null,
   "id": "132dfb58",
   "metadata": {},
   "outputs": [],
   "source": [
    "p = np.array(sPnts)\n",
    "plt.plot(p[:,0],p[:,1],'o-.')\n",
    "for i,pi in enumerate(p):\n",
    "    plt.text(*(np.array(pi)+np.array([0.001,0])),str(i))\n",
    "plt.show()"
   ]
  },
  {
   "cell_type": "markdown",
   "id": "93839c99",
   "metadata": {},
   "source": [
    "Damit erhalten wir die Tasse ohne Vakuum Bereich:"
   ]
  },
  {
   "cell_type": "code",
   "execution_count": null,
   "id": "5327b5c5",
   "metadata": {},
   "outputs": [],
   "source": [
    "DrawShape(face);"
   ]
  },
  {
   "cell_type": "markdown",
   "id": "b084614c",
   "metadata": {},
   "source": [
    "Den inneren Vakuum Bereich definieren wir analog:"
   ]
  },
  {
   "cell_type": "code",
   "execution_count": null,
   "id": "22c69ead",
   "metadata": {},
   "outputs": [],
   "source": [
    "wp2 = WorkPlane()\n",
    "sPnts2 = [(0.0224, 0.008),\n",
    "          (0.0264, 0.016),\n",
    "          (0.0312, 0.036),\n",
    "          (0.022, 0.0184),\n",
    "          (0.004, 0.0048),\n",
    "          (-0.004, 0.0048),\n",
    "          (-0.022, 0.0184),\n",
    "          (-0.0312, 0.036),\n",
    "          (-0.0264, 0.016),\n",
    "          (-0.0224, 0.008),\n",
    "          (-0.0152, 0.0012)]\n",
    "wp2.MoveTo(4*3.8e-3,4*.3e-3).Spline(sPnts2)\n",
    "isolator = wp2.Close().Face()\n",
    "\n",
    "DrawShape(isolator);"
   ]
  },
  {
   "cell_type": "markdown",
   "id": "11ae009b",
   "metadata": {},
   "source": [
    "Das Glas ist daher gegeben durch die Boolsche Operaton `face - isolator`:"
   ]
  },
  {
   "cell_type": "code",
   "execution_count": null,
   "id": "f7dc1298",
   "metadata": {},
   "outputs": [],
   "source": [
    "glas = face-isolator\n",
    "\n",
    "DrawShape(glas);"
   ]
  },
  {
   "cell_type": "markdown",
   "id": "45c54081",
   "metadata": {},
   "source": [
    "Die Flüssigkeit wird ähnlich aufgebaut. Wir definieren ein Trapez und subtrahieren die Fläche der Tasse:"
   ]
  },
  {
   "cell_type": "code",
   "execution_count": null,
   "id": "6b9052c3",
   "metadata": {},
   "outputs": [],
   "source": [
    "wp3 = WorkPlane()\n",
    "wp3.MoveTo(-4*3.9e-3,2*1.5e-3).LineTo(4*3.9e-3,2*1.5e-3).LineTo(4*7.2e-3,3*9.5e-3).LineTo(-4*7.2e-3,3*9.5e-3)\n",
    "face3 = wp3.Close().Face()\n",
    "liquid = face3-face\n",
    "\n",
    "DrawShape(liquid);"
   ]
  },
  {
   "cell_type": "markdown",
   "id": "282e1538",
   "metadata": {},
   "source": [
    "Und letztlich noch für die Luft analog:"
   ]
  },
  {
   "cell_type": "code",
   "execution_count": null,
   "id": "8994829a",
   "metadata": {},
   "outputs": [],
   "source": [
    "wp4 = WorkPlane()\n",
    "wp4.MoveTo(-.2,0).LineTo(.2,0).LineTo(.2,.25).LineTo(-.2,.25)\n",
    "box = wp4.Close().Face()\n",
    "air = box-face-face3\n",
    "\n",
    "DrawShape(air);"
   ]
  },
  {
   "cell_type": "markdown",
   "id": "16475cea",
   "metadata": {},
   "source": [
    "Alles zusammen geklebt `glue` liefert unser Modell. Um später die einzelnen Teilflächen / Gebiete mit verschiedenen Materialparameter versehen zu können definieren wir Namen. Ebenso können wir Ränder bezeichnen und die Feinheit des Meshes beeinflussen:"
   ]
  },
  {
   "cell_type": "code",
   "execution_count": null,
   "id": "db6b30df",
   "metadata": {},
   "outputs": [],
   "source": [
    "air.faces.name = 'air'\n",
    "glas.faces.name = 'glas'\n",
    "isolator.faces.name = 'isolator'\n",
    "liquid.faces.name = 'liquid'\n",
    "\n",
    "air.maxh = 30e-3\n",
    "isolator.maxh = 5e-3\n",
    "glas.maxh = 5e-4\n",
    "liquid.maxh = 2.5e-3\n",
    "\n",
    "glas.edges.Min(Y).name='bottom'\n",
    "air.edges.Min(X).name='outer'\n",
    "air.edges.Max(X).name='outer'\n",
    "air.edges.Max(Z).name='outer'\n",
    "air.edges.Max(Y).name='outer'\n",
    "air.edges.Nearest((-.1,0)).name='bottom'\n",
    "air.edges.Nearest((.1,0)).name='bottom'\n",
    "\n",
    "model = Glue([air, glas, isolator, liquid])\n",
    "\n",
    "DrawShape(model);"
   ]
  },
  {
   "cell_type": "markdown",
   "id": "a6336af4",
   "metadata": {},
   "source": [
    "Abschliessend benutzen wir das Modell für die OCC-Geometrie und generieren das `netgen` Mesh, welches wir wiederum `ngsolve` übergeben:"
   ]
  },
  {
   "cell_type": "code",
   "execution_count": null,
   "id": "c93287be",
   "metadata": {},
   "outputs": [],
   "source": [
    "geo = OCCGeometry(model, dim=2) # wichtig: dim=2 muss hier zwingend definiert werden!\n",
    "mesh = Mesh(geo.GenerateMesh())\n",
    "\n",
    "Draw(mesh);"
   ]
  },
  {
   "cell_type": "markdown",
   "id": "041b03ff",
   "metadata": {},
   "source": [
    "Das geometrische Modell und dessen mathematische Beschreibung als Mesh ist damit definiert.\n",
    "\n",
    "## Stationäre Wärmeleitung\n",
    "### Ortsabhängige Wärmeleitung\n",
    "\n",
    "Die stationäre Wärmeverteilung kann wie oben erwähnt mit Hilfe der Poisson-Gleichung modelliert werden. Es wird dabei vorausgesetzt, dass die Wärme sich diffusiv im Raum verteilt. In dem Ansatz wird keine Wärmestrahlung oder Konvektion berücksichtigt. Wir gehen davon aus, dass es keine Luftströmung aufgrund von Temperaturdifferenzen in der Luft gibt, welche die Wärme weg transportieren würde. Wie gut die Wärme geleitet wird, hängt vom Medium ab. Wir benutzen folgende Werte für die Wärmeleitung:\n",
    "\n",
    "1. Fall Isolationstasse: wir gehen von Luft als relativ schlechter Wärmeleiter im Innern der Tasse aus."
   ]
  },
  {
   "cell_type": "code",
   "execution_count": null,
   "id": "ffad5648",
   "metadata": {},
   "outputs": [],
   "source": [
    "lam_mat = {'glas': 20, 'isolator': 0.0262, 'liquid': 0.597, 'air': 0.0262}\n",
    "lam = CoefficientFunction([lam_mat[mat] for mat in mesh.GetMaterials()])"
   ]
  },
  {
   "cell_type": "markdown",
   "id": "bf0e3f9a",
   "metadata": {},
   "source": [
    "2. Fall Keramiktasse: kein Isolator, wir setzen die Wärmeleitung auf Glas (für Keramik)."
   ]
  },
  {
   "cell_type": "code",
   "execution_count": null,
   "id": "f29654fa",
   "metadata": {},
   "outputs": [],
   "source": [
    "lam_mat2 = {'glas': 20, 'isolator': 20, 'liquid': 0.597, 'air': 0.0262}\n",
    "lam2 = CoefficientFunction([lam_mat2[mat] for mat in mesh.GetMaterials()])"
   ]
  },
  {
   "cell_type": "markdown",
   "id": "7f8892d8",
   "metadata": {},
   "source": [
    "Durch Testen der partiellen Differentialgleichung {eq}`eq:waermeleitungstationaer` erhalten wir wie in {eq}`eq:weakPoisson` die **schwache Gleichung**\n",
    "\n",
    "$$\\int_\\Omega \\lambda(x) \\nabla T(x)\\cdot\\nabla v(x) dx = \\int_\\Omega q(x) v(x) dx\\quad \\forall \\ v\\in\\ H_0^1(\\Omega),$$(eq:schwachewaermeleitungstationaer)\n",
    "\n",
    "wobei wir die Randbedingung in dem Fall homogen auf $T_0 \\equiv 0$ gesetzt haben. Wir betrachten daher die relative Temperaturänderung zur Umgebungstemperatur $T_0$. \n",
    "\n",
    "Die Lösung des Randwertproblems {eq}`eq:waermeleitungstationaer` suchen wir in einem geeigneten Funktionenraum (in dem Fall der $H_0^1(\\Omega)$, welchen wir später einführen werden). Der Funktionenraum ist unendlichdimensional, was numerisch nicht zielführend ist. Mit Hilfe von finiter Elemente Basisfunktionen führen wir eine Basis ein, welche den Funktionenraum approximiert und endlichdimensional ist."
   ]
  },
  {
   "cell_type": "code",
   "execution_count": null,
   "id": "f86b5e64",
   "metadata": {},
   "outputs": [],
   "source": [
    "order = 3\n",
    "V = H1(mesh,order = order, dirichlet = 'bottom')\n",
    "u = V.TrialFunction()\n",
    "v = V.TestFunction()"
   ]
  },
  {
   "cell_type": "markdown",
   "id": "347ab542",
   "metadata": {},
   "source": [
    "Damit haben wir das unendlichdimensionale Problem auf ein endlich dimensionales reduziert."
   ]
  },
  {
   "cell_type": "code",
   "execution_count": null,
   "id": "562ed146",
   "metadata": {},
   "outputs": [],
   "source": [
    "print('V.ndof = ',V.ndof)"
   ]
  },
  {
   "cell_type": "markdown",
   "id": "32bb3129",
   "metadata": {},
   "source": [
    "Wir betrachten nun die beiden verschiedenen Tassen, was zu unterschiedlichen Bilinearformen oder diskret in dem Fall Matrizen $A$ führt:"
   ]
  },
  {
   "cell_type": "code",
   "execution_count": null,
   "id": "ff09563c",
   "metadata": {},
   "outputs": [],
   "source": [
    "# Isolationstasse\n",
    "a = BilinearForm(V,symmetric=True)\n",
    "a += lam*grad(u)*grad(v)*dx\n",
    "a.Assemble();\n",
    "\n",
    "# Keramiktasse\n",
    "a2 = BilinearForm(V,symmetric=True)\n",
    "a2 += lam2*grad(u)*grad(v)*dx\n",
    "a2.Assemble();"
   ]
  },
  {
   "cell_type": "markdown",
   "id": "545b4d12",
   "metadata": {},
   "source": [
    "### Kaffee als Wärmequelle\n",
    "\n",
    "Als nächstes müssen wir den Wärmeeintrag modellieren. Hier können unterschiedliche Ansätze verfolgt werden. Wir betrachten als ersten den einfachsten Ansatz und betrachten den warmen Kaffee als Wärmequelle $q(x)$. Die Wärmequelle geht in die rechten Seite der Gleichung {eq}`eq:schwachewaermeleitungstationaer`. Die rechte Seite hängt nur von den Testfunktionen ab und führt daher zu einer Linearform. Im endlichdimensionalen entsprechend auf einen Vektor $b$:"
   ]
  },
  {
   "cell_type": "code",
   "execution_count": null,
   "id": "de5ccd8a",
   "metadata": {},
   "outputs": [],
   "source": [
    "f = LinearForm(V)\n",
    "f += CoefficientFunction(6e4)*v*dx('liquid')\n",
    "f.Assemble()"
   ]
  },
  {
   "cell_type": "markdown",
   "id": "bf2144c0",
   "metadata": {},
   "source": [
    "Damit haben wir letztlich ein lineares Gleichungssystem\n",
    "\n",
    "$$A \\cdot T = b$$\n",
    "\n",
    "zu lösen. Für die numerischen Lösungen gibt es in `ngsolve` sogenannte `GridFunction`'s."
   ]
  },
  {
   "cell_type": "code",
   "execution_count": null,
   "id": "232a7f60",
   "metadata": {},
   "outputs": [],
   "source": [
    "gfT = GridFunction(V)\n",
    "gfT2 = GridFunction(V)\n",
    "\n",
    "gfT.vec.data += a.mat.Inverse(freedofs=V.FreeDofs())*f.vec\n",
    "gfT2.vec.data += a2.mat.Inverse(freedofs=V.FreeDofs())*f.vec"
   ]
  },
  {
   "cell_type": "markdown",
   "id": "6dbc5242",
   "metadata": {},
   "source": [
    "Die beiden Lösungen illustrieren sehr schön den Unterschied zwischen diesen beiden Tassen. Die Temperatur in der Isolationstasse ist viel höher als in der Keramiktasse. Dieses Resultat lehrt uns auch die Erfahrung, dass in der Isdolationstasse der Kaffee bedeutend länger warm ist, als in der Keramiktasse.\n",
    "\n",
    "1. Temperaturverteilung für die Isolationstasse"
   ]
  },
  {
   "cell_type": "code",
   "execution_count": null,
   "id": "68e74b9f",
   "metadata": {},
   "outputs": [],
   "source": [
    "Draw(gfT,min=0,max=60);"
   ]
  },
  {
   "cell_type": "markdown",
   "id": "710bed1d",
   "metadata": {},
   "source": [
    "2. Temperaturverteilung für die Keramiktasse"
   ]
  },
  {
   "cell_type": "code",
   "execution_count": null,
   "id": "eeb55705",
   "metadata": {},
   "outputs": [],
   "source": [
    "Draw(gfT2,min=0,max=60);"
   ]
  },
  {
   "cell_type": "markdown",
   "id": "0568f15b",
   "metadata": {},
   "source": [
    "Wir können auch den Wärmefluss visualisieren und erhalten mit {eq}`eq:waermefluss`:\n",
    "\n",
    "1. Wärmefluss für die Isolationstasse"
   ]
  },
  {
   "cell_type": "code",
   "execution_count": null,
   "id": "d64fa1ab",
   "metadata": {},
   "outputs": [],
   "source": [
    "q = -lam*grad(gfT)\n",
    "Draw(q,mesh,'q');"
   ]
  },
  {
   "cell_type": "markdown",
   "id": "35673707",
   "metadata": {},
   "source": [
    "2. Wärmefluss für die Keramiktasse"
   ]
  },
  {
   "cell_type": "code",
   "execution_count": null,
   "id": "28aff093",
   "metadata": {},
   "outputs": [],
   "source": [
    "q2 = -lam2*grad(gfT2)\n",
    "Draw(q2,mesh,'q2');"
   ]
  },
  {
   "cell_type": "markdown",
   "id": "eb032495",
   "metadata": {},
   "source": [
    "Durch aktivieren der Vektoren in der Visualisierung kann man sehr schön den Unterschied sehen. Im Fall der Isolationstasse wird der direkte Wärmefluss zum unteren Rand unterdrückt, was eine viel bessere Isolation bewirkt und damit natürlich auch einen warmen Kaffee garantiert.\n",
    "\n",
    "Wir werden dieses Beispiel später im Semester wieder aufgreifen und noch näher an der Realität ansetzen und insbesondere zeitabhängig betrachten. In dieser alltäglich praktischen Anwendung sehen Sie das Potential des Moduls. Während dem Semester werden wir die benutzten Begriffe einführungen und letztlich in der Lage sein, praktische Anwendungen modellieren und rechnen zu können."
   ]
  }
 ],
 "metadata": {
  "jupytext": {
   "formats": "md:myst,ipynb"
  },
  "kernelspec": {
   "display_name": "Python 3",
   "language": "python",
   "name": "python3"
  }
 },
 "nbformat": 4,
 "nbformat_minor": 5
}
