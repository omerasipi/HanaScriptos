{
 "cells": [
  {
   "cell_type": "markdown",
   "id": "ee685564",
   "metadata": {},
   "source": [
    "# Poisson Gleichung\n",
    "\n",
    "Das folgende Beispiel folgt dem analogen aus dem interaktiven Kurs von Joachim Schöberl {cite}`schoeberliFEM`.$\\DeclareMathOperator{\\opdiv}{div}$ $\\DeclareMathOperator{\\setR}{R}$\n",
    "\n",
    "## Problemstellung, Differentialgleichung\n",
    "\n",
    "``````{margin}\n",
    "<br/><br/><br/><br/>\n",
    "```{admonition} Begriffe:\n",
    "- Poisson Gleichung\n",
    "- Dirichlet Randbedingung\n",
    "- Meshing\n",
    "```\n",
    "``````\n",
    "\n",
    "Die Methode der finiten Elemente ist eine Methode für die numerische Berechnung von Lösungen partieller Differentialgleichungen. Eine sehr wichtige Gleichung ist die **Poisson Gleichung**. Sie kann als Verallgemeinerung des eindimensionalen Randwertproblem\n",
    "\n",
    "$$\\begin{split}\n",
    "-u''(x) & = f(x)\\quad\\forall\\ x\\in (0,1)\\\\\n",
    "u(0) & = u(1) = 0\n",
    "\\end{split}$$(eq:eindimrwp)\n",
    "\n",
    "interpretiert werden. Die Poisson Gleichung ist gegeben durch\n",
    "\n",
    "$$\n",
    "-\\Delta u(x) = f(x) \\quad \\forall \\, x \\in \\Omega\n",
    "$$\n",
    "\n",
    "wobei $\\Omega\\subset \\mathbb{R}^n$ ein mehrdimensionales Gebiet im $\\mathbb{R}^n$ ist. \n",
    "\n",
    "Die Poisson Gleichung ist ein Modell für verschiedene physikalische Phenomene. So kann zum Beispiel:\n",
    "* $f$ kann eine Verteilung einer **Wärmequelle** und $u$ die **Temperatur**\n",
    "* $f$ kann auch eine Verteilung der **elektrischen Ladung** und $u$ entsprechend das **elektrostatische Potential**.\n",
    "\n",
    "Um eine eindeutige Lösung $u$ zu erhalten, müssen Randbedingungen definiert werden. Im Beispiel werden wir die **homogene Dirichlet Randbedingung** benutzen:\n",
    "\n",
    "$$\n",
    "u(x) = 0 \\quad \\forall \\, x \\in \\partial \\Omega.\n",
    "$$\n",
    "\n",
    "Das zur Gleichung {eq}`eq:eindimrwp` analoge Randwertproblem ist in dem Fall für die Poisson Gleichung gegeben durch\n",
    "\n",
    "$$\\begin{split}\n",
    "-\\Delta u(x) & = f(x) \\quad \\forall \\, x \\in \\Omega\\\\\n",
    "u(x) & = 0 \\quad \\forall \\, x \\in \\partial \\Omega\n",
    "\\end{split}$$ (eq:poissonPDE)\n",
    "\n",
    "Um eine numerische Lösung des Randwertproblems zum Beispiel im zweidimensionalen Raum berechnen zu können, müssen wir das Gebiet diskretisieren (**Meshing**). Wir betrachten das Problem auf dem Einheitsquadrat:"
   ]
  },
  {
   "cell_type": "code",
   "execution_count": null,
   "id": "57a1214e",
   "metadata": {},
   "outputs": [],
   "source": [
    "from netgen.geom2d import unit_square\n",
    "from ngsolve import *\n",
    "from ngsolve.webgui import Draw"
   ]
  },
  {
   "cell_type": "code",
   "execution_count": null,
   "id": "102035a0",
   "metadata": {},
   "outputs": [],
   "source": [
    "mesh = Mesh(unit_square.GenerateMesh(maxh=0.1))\n",
    "Draw(mesh);"
   ]
  },
  {
   "cell_type": "markdown",
   "id": "bec135bb",
   "metadata": {},
   "source": [
    "(ref:IntroPoissonSchwacheGleichung)=\n",
    "## Schwache Gleichung\n",
    "\n",
    "``````{margin}\n",
    "<br/><br/><br/><br/>\n",
    "```{admonition} Begriffe:\n",
    "- starke Gleichung\n",
    "- schwache Gleichung\n",
    "- Testfunktion\n",
    "- Funktionenraum\n",
    "```\n",
    "``````\n",
    "\n",
    "Für die numerische Berechnung benötigen wir die **schwache Gleichung** (oder auch variationelle Formulierung) der Poisson Gleichung. Die oben formulierte partielle Differentialgleichung des Randwertproblems wird **starke Gleichung** genannt. Die schwache Gleichung ist die Ausgangsformulierung für die Diskretisierungsmethode der finiten Elemente.\n",
    "\n",
    "Ein Weg auf die schwache Gleichung zu kommen ist folgender: Multipliziere die partielle Differentialgleichung mit einer sogenannten **Testfunktion**. Die Testfunktion ist eine beliebige Funktion aus einem geeigneten **Funktionenraum** $V$. Multiplikation der PDE mit $v\\in V$ liefert\n",
    "\n",
    "$$\n",
    "- \\Delta u(x) v(x) = f(x) v(x) \\qquad \\forall x \\in \\Omega\n",
    "$$\n",
    "\n",
    "Nun integrieren wir über das gesamte Gebiet $\\Omega$:\n",
    "\n",
    "$$\n",
    "- \\int_\\Omega \\Delta u(x) v(x) dx = \\int_\\Omega f(x) v(x) dx\n",
    "$$\n",
    "\n",
    "Mit Hilfe der partiellen Integration im Mehrdimensionalen (Satz von Gauss auf das Vektorfeld $\\nabla u(x)\\, v(x)$ angewandt):\n",
    "\n",
    "$$\n",
    "\\int_{\\partial \\Omega} n\\cdot \\nabla u(x) \\, v(x)\\, dA = \\int_\\Omega \\opdiv (\\nabla u(x) \\, v(x)) dx\n",
    "= \\int_{\\Omega} \\Delta u(x) v(x) + \\nabla u(x)\\cdot \\nabla v(x) dx\n",
    "$$\n",
    "\n",
    "können wir die linke Seite in der Form\n",
    "\n",
    "$$\n",
    "\\int_\\Omega \\nabla u(x)\\cdot \\nabla v(x)\\, dx - \\int_{\\partial \\Omega} \\frac{\\partial u(x)}{\\partial n} v(x)\\, dA = \\int_\\Omega f(x) v(x)\\, dx\n",
    "$$\n",
    "\n",
    "schreiben.\n",
    "\n",
    "Im Fall der Dirichlet Randbedingung können wir Testfunktionen $v$ benutzen, für welche $v(x) = 0$ auf dem Rand $\\partial\\Omega$ gilt.\n",
    "\n",
    "Wir erhalten damit das **schwache Problem**: Finde $u(x)\\in V$ so, dass $u=0$ auf $\\partial\\Omega$ und\n",
    "\n",
    "$$\n",
    "\\int_\\Omega \\nabla u(x)\\cdot \\nabla v(x) dx = \\int_\\Omega f(x) v(x) dx\n",
    "$$ (eq:weakPoisson)\n",
    "\n",
    "für alle Testfunktionen $v$ mit $v=0$ auf $\\partial\\Omega$ erfüllt ist.\n",
    "\n",
    "Der Gewinn der schwachen Formulierung ist, dass wir das Problem mit der zweiten örtlichen Ableitung auf ein Problem mit erster Ableitung reduzieren können. Was natürlich die Frage aufwirft, wann eine **schwache Lösung** (Lösung der schwachen Gleichung) auch eine **starke Lösung** ist?\n",
    "\n",
    "## Der Sobolev Raum $H^1$, linear und bilinear Formen\n",
    "\n",
    "``````{margin}\n",
    "<br/><br/><br/><br/>\n",
    "```{admonition} Begriffe:\n",
    "- Sobolev Raum $H^1$\n",
    "- Funktionenraum $L_2$\n",
    "- Norm, Skalarprodukt\n",
    "- Hilbert Raum\n",
    "- Linearform, Bilinearform\n",
    "```\n",
    "``````\n",
    "\n",
    "Der für das Beispiel geeignete Funktionenraum für die Lösungen ist der **Sobolev Raum**\n",
    "\n",
    "$$H^1 := \\{u\\in L_2(\\Omega) | \\nabla u\\in L_2(\\Omega)^n \\}$$\n",
    "\n",
    "Das hochgestellte 1 bezieht sich auf die erste Ableitung, welche quadratisch integrierbar sein soll ($L_2$). Wir werden den Ableitungsbegriff für die Anwendung erweitern müssen, denn nicht alle Funktionen im $L_2$ sind nicht stetig differenzierbar. Die zum Vektorraum $H^1$ zugehörige Norm ist gegeben durch\n",
    "\n",
    "$$\\| u\\|_{H^1} = \\| u\\|_{L_2} + \\| \\nabla u\\|_{L_2}$$\n",
    "\n",
    "und für das Skalarprodukt gilt\n",
    "\n",
    "$$(u,v)_{H^1} = (u,v)_{L_2} + (\\nabla u,\\nabla v)_{L_2}.$$\n",
    "\n",
    "Der Funktionenraum $H^1$ ist ein vollständiger Raum mit Skalarprodukt. Einen solchen Raum nennt man Hilbert Raum.\n",
    "\n",
    "Es macht keinen Sinn Randwerte von $L_2$ Funktionen zu definieren. Für Funktionen aus dem Sobolev Raum $H^1$ existiert jedoch das Trace Theorem, welches besagt, dass Randwerte wohl definiert sind. Es gilt für $u\\in H^1(\\Omega)$\n",
    "\n",
    "$$u|_{\\partial \\Omega} \\in L_2(\\partial \\Omega).$$\n",
    "\n",
    "Damit macht es Sinn einen Unterraum $H_0^1$ mit homogenen Dirichlet Randbedingungen zu definieren\n",
    "\n",
    "$$H_0^1 = \\{u\\in H^1 | u|_{\\partial \\Omega} = 0\\}.$$\n",
    "\n",
    "Wir betrachten nun die Gleichung {eq}`eq:weakPoisson`. Die linke Seite stellt eine **Bilinearform** $A: H^1\\times H^1 \\to \\mathbb{R}$\n",
    "\n",
    "$$A(u,v) = \\int_\\Omega \\nabla u\\cdot\\nabla v\\,dx$$\n",
    "\n",
    "dar und die rechte Seite eine **Linearform** $f:H^1 \\to \\mathbb{R}$\n",
    "\n",
    "$$f(v) := \\int_\\Omega f(x) v(x) dx.$$\n",
    "\n",
    "Wir können damit das schwache Problem auch wie folgt beschreiben\n",
    "\n",
    "$$\\text{finde}\\ u\\in H_0^1(\\Omega): \\quad A(u,v) = f(v)\\quad \\forall v\\in H_0^1(\\Omega).$$ (eq:weakProblemPoisson2)\n",
    "\n",
    "Dieser abstrakte Formalismus von Hilber Räumen, Bilinear- und Linearformen passt auf eine sehr grosse klasse von (elliptischen) partiellen Differentialgleichungen.\n",
    "\n",
    "## Finite Elemente Methode\n",
    "\n",
    "``````{margin}\n",
    "<br/><br/><br/><br/>\n",
    "```{admonition} Begriffe:\n",
    "- Finite Elemente Methode\n",
    "- Diskretisierungsfehler\n",
    "```\n",
    "``````\n",
    "\n",
    "Die schwache Formulierung ist die Ausgangsform für die Methode der finiten Elemente. Da wir nicht in einem unendlich dimensionalen **Hilbertraum** rechnen können, müssen wir einen endlich dimensionalen **Unterraum** benutzen. \n",
    "\n",
    "$$V_h \\subset H_0^1$$"
   ]
  },
  {
   "cell_type": "code",
   "execution_count": null,
   "id": "3525cf6e",
   "metadata": {},
   "outputs": [],
   "source": [
    "V = H1(mesh, order=1, dirichlet = '.*')\n",
    "u = V.TrialFunction()\n",
    "v = V.TestFunction()"
   ]
  },
  {
   "cell_type": "markdown",
   "id": "88d29298",
   "metadata": {},
   "source": [
    "Wir suchen nun Lösungen für schwache Problem {eq}`eq:weakProblemPoisson2` im endlich dimensionalen Vektorraum $V_h$:\n",
    "\n",
    "$$\\text{finde}\\ u_h\\in V_h: \\quad A(u_h,v_h) = f(v_h)\\quad \\forall v_h\\in V_h.$$ (eq:weakProblemPoisson3)\n",
    "\n",
    "Die finite Elemente Lösung approximiert die exakte Lösung $u$, wobei der Diskretisierungsfehler $\\|u-u_h\\|_{H^1}$ für $h\\to 0$ ebenfalls gegen Null streben soll.\n",
    "\n",
    "Um die Lösung $u_h$ berechnen zu können, müssen wir eine Basis $p_i, i=1,\\ldots, N$ für den Funktionenraum $V_h$ wählen, wobei $N = \\mathop{dim} V_h$."
   ]
  },
  {
   "cell_type": "code",
   "execution_count": null,
   "id": "f01b144c",
   "metadata": {},
   "outputs": [],
   "source": [
    "print('dim V = N = ',V.ndof)"
   ]
  },
  {
   "cell_type": "markdown",
   "id": "a8dfd869",
   "metadata": {},
   "source": [
    "$u_h$ können wir daher als\n",
    "\n",
    "$$u_h(x) = \\sum_{i=1}^N u_i p_i(x)$$\n",
    "\n",
    "schreiben. Die Koeffizienten $u_i$ schreiben wir als Koeffizientenvektor $u=(u_1, \\ldots, u_n) \\in \\mathbb{R}^N$."
   ]
  },
  {
   "cell_type": "code",
   "execution_count": null,
   "id": "730ac097",
   "metadata": {},
   "outputs": [],
   "source": [
    "gfu = GridFunction(V)"
   ]
  },
  {
   "cell_type": "markdown",
   "id": "36d3c6fe",
   "metadata": {},
   "source": [
    "Anstatt, dass wir mit allen Funktionen aus dem $V_h$ test, reicht es mit den Basisfunktionen $p_j(x)$ zu testen. Damit haben wir das finite Element Problem\n",
    "\n",
    "$$\\text{finde}\\ u\\in \\mathbb{R}^N: \\quad A(\\sum_{i=1}^N u_i p_i,p_j) = f(p_j)\\quad \\forall j = 1, \\ldots, N.$$ \n",
    "\n",
    "Da $A(\\cdot, \\cdot)$ eine Bilinearfunktion ist, können wir die Summe aus der Bilinearfunktion nehmen. Es folgt\n",
    "\n",
    "$$\\text{finde}\\ u\\in \\mathbb{R}^N: \\quad \\sum_{i=1}^N A(p_i,p_j) u_i = f(p_j)\\quad \\forall j = 1, \\ldots, N.$$ (eq:FEMProblemPoisson)\n",
    "\n",
    "Da die Basisfunktionen $p_i$ bekannt sind, können wir die Matrix $A\\in\\mathbb{R}^{N\\times N}$ welche die Bilinearfunktion beschreibt berechnen. Die Matrix Einträge sind gegeben durch\n",
    "\n",
    "$$A_{j,i} = A(p_i,p_j) = \\int_\\Omega \\nabla p_i\\cdot \\nabla p_j dx.$$"
   ]
  },
  {
   "cell_type": "code",
   "execution_count": null,
   "id": "2a1f7313",
   "metadata": {},
   "outputs": [],
   "source": [
    "a = BilinearForm(V)\n",
    "a += grad(u)*grad(v)*dx\n",
    "a.Assemble();"
   ]
  },
  {
   "cell_type": "markdown",
   "id": "e6be667b",
   "metadata": {},
   "source": [
    "Die Linearform $f$ kann durch den Vektor $f\\in\\mathbb{R}^N$ \n",
    "\n",
    "$$f_j = f(p_j) = \\int_\\Omega f(x)p_j(x)dx$$\n",
    "\n",
    "beschrieben werden."
   ]
  },
  {
   "cell_type": "code",
   "execution_count": null,
   "id": "8c861bb4",
   "metadata": {},
   "outputs": [],
   "source": [
    "funcf = CoefficientFunction(10)\n",
    "\n",
    "f = LinearForm(V)\n",
    "f += funcf*v*dx\n",
    "f.Assemble();"
   ]
  },
  {
   "cell_type": "markdown",
   "id": "cdb47782",
   "metadata": {},
   "source": [
    "Das Lösen des finite Elementproblems {eq}`eq:FEMProblemPoisson` resultiert somit im Lösen des linearen Gleichungssystems\n",
    "\n",
    "$$A\\cdot u = f$$"
   ]
  },
  {
   "cell_type": "code",
   "execution_count": null,
   "id": "f101ad44",
   "metadata": {},
   "outputs": [],
   "source": [
    "gfu.vec.data = a.mat.Inverse(freedofs=V.FreeDofs()) * f.vec\n",
    "Draw(gfu);"
   ]
  }
 ],
 "metadata": {
  "jupytext": {
   "formats": "md:myst,ipynb"
  },
  "kernelspec": {
   "display_name": "Python 3",
   "language": "python",
   "name": "python3"
  }
 },
 "nbformat": 4,
 "nbformat_minor": 5
}
